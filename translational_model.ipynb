{
 "cells": [
  {
   "cell_type": "markdown",
   "metadata": {},
   "source": [
    "# Translation model from COCO -> MPII\n"
   ]
  },
  {
   "cell_type": "code",
   "execution_count": 59,
   "metadata": {},
   "outputs": [],
   "source": [
    "import torch\n",
    "import numpy as np\n",
    "import torch.nn as nn\n",
    "import torch.optim as optim\n",
    "import json"
   ]
  },
  {
   "cell_type": "code",
   "execution_count": 33,
   "metadata": {},
   "outputs": [],
   "source": [
    "\n",
    "\n",
    "ROOT_FOLDER = \"/datagrid/personal/baljibil\"\n",
    "# ground truth\n",
    "with open(ROOT_FOLDER + '/data/MPII_COCO/annotations/mpii_val.json', 'r') as f:\n",
    "    annot_truth = json.load(f)\n",
    "# prediction\n",
    "with open(ROOT_FOLDER + '/repos/scripts/coco_pred_on_mpii/pred.json', 'r') as f:\n",
    "    annot_pred_coco = json.load(f)\n",
    "\n",
    "# with open(ROOT_FOLDER + '/repos/scripts/mpii_pred_on_mpii/pred.json', 'r') as f:\n",
    "#     annot_pred_mpii = json.load(f)\n",
    "\n"
   ]
  },
  {
   "cell_type": "code",
   "execution_count": 63,
   "metadata": {},
   "outputs": [
    {
     "name": "stdout",
     "output_type": "stream",
     "text": [
      "X shape:  (2958, 17, 2)\n",
      "y shape: (2958, 16, 2)\n"
     ]
    }
   ],
   "source": [
    "X = list()\n",
    "y = list()\n",
    "box_scale = list()\n",
    "box_center = list()\n",
    "for i in range(len(annot_truth)):\n",
    "  X.append(annot_pred_coco['annotations'][i]['joints'])\n",
    "  y.append(annot_truth[i]['joints'])\n",
    "  box_scale.append(annot_truth[i]['scale'])\n",
    "  box_center.append(annot_truth[i]['center'])\n",
    "X = np.array(X)\n",
    "y = np.array(y)\n",
    "box_scale = np.array(box_scale)\n",
    "box_center = np.array(box_center)\n",
    "print(\"X shape: \", X.shape)\n",
    "print(\"y shape:\", y.shape)\n",
    "print(\"box scale:,\" box_scale.shape)\n",
    "print(\"box center:\", box_center.shape)"
   ]
  },
  {
   "cell_type": "markdown",
   "metadata": {},
   "source": [
    "## Normalize the dataset\n",
    "- First by scale value of the bounding box\n",
    "- Then either 0-1 normalization"
   ]
  },
  {
   "cell_type": "code",
   "execution_count": null,
   "metadata": {},
   "outputs": [],
   "source": []
  },
  {
   "cell_type": "code",
   "execution_count": 53,
   "metadata": {},
   "outputs": [],
   "source": [
    "from sklearn.model_selection import train_test_split"
   ]
  },
  {
   "cell_type": "markdown",
   "metadata": {},
   "source": [
    "## Split train, val, test"
   ]
  },
  {
   "cell_type": "code",
   "execution_count": 58,
   "metadata": {},
   "outputs": [
    {
     "name": "stdout",
     "output_type": "stream",
     "text": [
      "Train instance:  1552\n",
      "Val instance:  518\n",
      "Test instance:  888\n"
     ]
    }
   ],
   "source": [
    "X_train, X_test, y_train, y_test = train_test_split(X, y, test_size=0.3, random_state=42)\n",
    "X_train, X_val, y_train, y_val = train_test_split(X_train, y_train, test_size=0.25, random_state=42)\n",
    "\n",
    "print(\"Train instance: \", X_train.shape[0])\n",
    "print(\"Val instance: \", X_val.shape[0])\n",
    "print(\"Test instance: \", X_test.shape[0])\n"
   ]
  },
  {
   "cell_type": "code",
   "execution_count": null,
   "metadata": {},
   "outputs": [],
   "source": [
    "\n",
    "class TranslatorNN(nn.Module):\n",
    "    def __init__(self):\n",
    "        super().__init__()\n",
    "        self.hidden1 = nn.Linear(17, 17)\n",
    "        self.act1 = nn.ReLU()\n",
    "        self.hidden2 = nn.Linear(17, 17)\n",
    "        self.act2 = nn.ReLU()\n",
    "        self.output = nn.Linear(17, 16)\n",
    "        self.act_output = nn.Sigmoid()\n",
    "\n",
    "    def forward(self, x):\n",
    "        x = self.act1(self.hidden1(x))\n",
    "        x = self.act2(self.hidden2(x))\n",
    "        x = self.act_output(self.output(x))\n",
    "        return x\n",
    "\n",
    "model = PimaClassifier()\n",
    "print(model)"
   ]
  }
 ],
 "metadata": {
  "kernelspec": {
   "display_name": "Python 3",
   "language": "python",
   "name": "python3"
  },
  "language_info": {
   "codemirror_mode": {
    "name": "ipython",
    "version": 3
   },
   "file_extension": ".py",
   "mimetype": "text/x-python",
   "name": "python",
   "nbconvert_exporter": "python",
   "pygments_lexer": "ipython3",
   "version": "3.8.18"
  }
 },
 "nbformat": 4,
 "nbformat_minor": 2
}
